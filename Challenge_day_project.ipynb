{
 "cells": [
  {
   "cell_type": "code",
   "execution_count": 1,
   "metadata": {},
   "outputs": [],
   "source": [
    "import requests\n",
    "from bs4 import BeautifulSoup\n",
    "import numpy as np\n",
    "import pandas as pd\n",
    "page=requests.get('https://www.imdb.com/search/title/?count=100&groups=top_1000&sort=user_rating')\n",
    "soup=BeautifulSoup(page.content, 'html.parser')\n"
   ]
  },
  {
   "cell_type": "code",
   "execution_count": 2,
   "metadata": {},
   "outputs": [],
   "source": [
    "movie_name=[]\n",
    "year=[]\n",
    "time=[]\n",
    "rating=[]\n",
    "metascore=[]\n",
    "votes=[]\n",
    "gross=[]"
   ]
  },
  {
   "cell_type": "code",
   "execution_count": 3,
   "metadata": {},
   "outputs": [],
   "source": [
    "movie_data=soup.findAll('div',class_='lister-item mode-advanced')"
   ]
  },
  {
   "cell_type": "code",
   "execution_count": 4,
   "metadata": {},
   "outputs": [],
   "source": [
    "for movies in movie_data:\n",
    "\n",
    "    name=movies.h3.a.text\n",
    "    movie_name.append(name)\n",
    "\n",
    "    year_of_release=movies.h3.find('span',class_='lister-item-year text-muted unbold').text.replace('(','').replace(')','')\n",
    "    year.append(year_of_release)\n",
    "\n",
    "    runtime=movies.p.find('span', class_='runtime').text.replace('min','')\n",
    "    time.append(runtime)\n",
    "\n",
    "    rate=movies.find('div',class_='inline-block ratings-imdb-rating').text.replace('\\n','')\n",
    "    rating.append(rate)\n",
    " \n",
    "    meta=movies.find('span',class_='metascore').text if movies.find('span',class_='metascore') else 'none'\n",
    "    metascore.append(meta)\n",
    "\n",
    "    values=movies.find_all('span', attrs={'name':'nv'})\n",
    "\n",
    "    vote=values[0].text\n",
    "    votes.append(vote)\n",
    "\n",
    "    grosses=values[1].text if len(values)>1 else 'none'\n",
    "    gross.append(grosses)\n"
   ]
  },
  {
   "cell_type": "code",
   "execution_count": 5,
   "metadata": {},
   "outputs": [],
   "source": [
    "movie_DF=pd.DataFrame({'name of movie':movie_name,'year_of_relase':year,'watchtime':time,'movie_rating':rating,'metascore':metascore,'votes':votes,'gross_collection':gross})"
   ]
  },
  {
   "cell_type": "code",
   "execution_count": 75,
   "metadata": {},
   "outputs": [
    {
     "data": {
      "text/html": [
       "<div>\n",
       "<style scoped>\n",
       "    .dataframe tbody tr th:only-of-type {\n",
       "        vertical-align: middle;\n",
       "    }\n",
       "\n",
       "    .dataframe tbody tr th {\n",
       "        vertical-align: top;\n",
       "    }\n",
       "\n",
       "    .dataframe thead th {\n",
       "        text-align: right;\n",
       "    }\n",
       "</style>\n",
       "<table border=\"1\" class=\"dataframe\">\n",
       "  <thead>\n",
       "    <tr style=\"text-align: right;\">\n",
       "      <th></th>\n",
       "      <th>name of movie</th>\n",
       "      <th>year_of_relase</th>\n",
       "      <th>watchtime</th>\n",
       "      <th>movie_rating</th>\n",
       "      <th>metascore</th>\n",
       "      <th>votes</th>\n",
       "      <th>gross_collection</th>\n",
       "    </tr>\n",
       "  </thead>\n",
       "  <tbody>\n",
       "    <tr>\n",
       "      <th>56</th>\n",
       "      <td>Lichter der Großstadt - Eine Komödien-Romance ...</td>\n",
       "      <td>1931</td>\n",
       "      <td>87</td>\n",
       "      <td>8.5</td>\n",
       "      <td>99</td>\n",
       "      <td>176,995</td>\n",
       "      <td>$0.02M</td>\n",
       "    </tr>\n",
       "    <tr>\n",
       "      <th>55</th>\n",
       "      <td>Moderne Zeiten</td>\n",
       "      <td>1936</td>\n",
       "      <td>87</td>\n",
       "      <td>8.5</td>\n",
       "      <td>96</td>\n",
       "      <td>230,067</td>\n",
       "      <td>$0.16M</td>\n",
       "    </tr>\n",
       "    <tr>\n",
       "      <th>86</th>\n",
       "      <td>Der große Diktator</td>\n",
       "      <td>1940</td>\n",
       "      <td>125</td>\n",
       "      <td>8.4</td>\n",
       "      <td>none</td>\n",
       "      <td>214,308</td>\n",
       "      <td>$0.29M</td>\n",
       "    </tr>\n",
       "    <tr>\n",
       "      <th>54</th>\n",
       "      <td>Casablanca</td>\n",
       "      <td>1942</td>\n",
       "      <td>102</td>\n",
       "      <td>8.5</td>\n",
       "      <td>100</td>\n",
       "      <td>545,614</td>\n",
       "      <td>$1.02M</td>\n",
       "    </tr>\n",
       "    <tr>\n",
       "      <th>35</th>\n",
       "      <td>Ist das Leben nicht schön?</td>\n",
       "      <td>1946</td>\n",
       "      <td>130</td>\n",
       "      <td>8.6</td>\n",
       "      <td>89</td>\n",
       "      <td>424,383</td>\n",
       "      <td>none</td>\n",
       "    </tr>\n",
       "    <tr>\n",
       "      <th>...</th>\n",
       "      <td>...</td>\n",
       "      <td>...</td>\n",
       "      <td>...</td>\n",
       "      <td>...</td>\n",
       "      <td>...</td>\n",
       "      <td>...</td>\n",
       "      <td>...</td>\n",
       "    </tr>\n",
       "    <tr>\n",
       "      <th>0</th>\n",
       "      <td>Jai Bhim</td>\n",
       "      <td>2021</td>\n",
       "      <td>164</td>\n",
       "      <td>9.6</td>\n",
       "      <td>none</td>\n",
       "      <td>40,608</td>\n",
       "      <td>none</td>\n",
       "    </tr>\n",
       "    <tr>\n",
       "      <th>23</th>\n",
       "      <td>Drishyam 2</td>\n",
       "      <td>2021</td>\n",
       "      <td>152</td>\n",
       "      <td>8.6</td>\n",
       "      <td>none</td>\n",
       "      <td>31,330</td>\n",
       "      <td>none</td>\n",
       "    </tr>\n",
       "    <tr>\n",
       "      <th>16</th>\n",
       "      <td>Shershaah</td>\n",
       "      <td>2021</td>\n",
       "      <td>135</td>\n",
       "      <td>8.7</td>\n",
       "      <td>none</td>\n",
       "      <td>106,309</td>\n",
       "      <td>none</td>\n",
       "    </tr>\n",
       "    <tr>\n",
       "      <th>67</th>\n",
       "      <td>Coco: Lebendiger als das Leben</td>\n",
       "      <td>I 2017</td>\n",
       "      <td>105</td>\n",
       "      <td>8.4</td>\n",
       "      <td>81</td>\n",
       "      <td>438,805</td>\n",
       "      <td>$209.73M</td>\n",
       "    </tr>\n",
       "    <tr>\n",
       "      <th>98</th>\n",
       "      <td>The Father</td>\n",
       "      <td>I 2020</td>\n",
       "      <td>97</td>\n",
       "      <td>8.3</td>\n",
       "      <td>88</td>\n",
       "      <td>104,741</td>\n",
       "      <td>none</td>\n",
       "    </tr>\n",
       "  </tbody>\n",
       "</table>\n",
       "<p>100 rows × 7 columns</p>\n",
       "</div>"
      ],
      "text/plain": [
       "                                        name of movie year_of_relase  \\\n",
       "56  Lichter der Großstadt - Eine Komödien-Romance ...           1931   \n",
       "55                                     Moderne Zeiten           1936   \n",
       "86                                 Der große Diktator           1940   \n",
       "54                                         Casablanca           1942   \n",
       "35                         Ist das Leben nicht schön?           1946   \n",
       "..                                                ...            ...   \n",
       "0                                            Jai Bhim           2021   \n",
       "23                                         Drishyam 2           2021   \n",
       "16                                          Shershaah           2021   \n",
       "67                     Coco: Lebendiger als das Leben         I 2017   \n",
       "98                                         The Father         I 2020   \n",
       "\n",
       "   watchtime movie_rating    metascore    votes gross_collection  \n",
       "56       87           8.5   99          176,995           $0.02M  \n",
       "55       87           8.5   96          230,067           $0.16M  \n",
       "86      125           8.4         none  214,308           $0.29M  \n",
       "54      102           8.5  100          545,614           $1.02M  \n",
       "35      130           8.6   89          424,383             none  \n",
       "..       ...          ...          ...      ...              ...  \n",
       "0       164           9.6         none   40,608             none  \n",
       "23      152           8.6         none   31,330             none  \n",
       "16      135           8.7         none  106,309             none  \n",
       "67      105           8.4   81          438,805         $209.73M  \n",
       "98       97           8.3   88          104,741             none  \n",
       "\n",
       "[100 rows x 7 columns]"
      ]
     },
     "execution_count": 75,
     "metadata": {},
     "output_type": "execute_result"
    }
   ],
   "source": [
    "df\n",
    "# Movies are arranged as per year of relese from 1931 to 2021. "
   ]
  },
  {
   "cell_type": "code",
   "execution_count": 69,
   "metadata": {},
   "outputs": [
    {
     "data": {
      "text/html": [
       "<div>\n",
       "<style scoped>\n",
       "    .dataframe tbody tr th:only-of-type {\n",
       "        vertical-align: middle;\n",
       "    }\n",
       "\n",
       "    .dataframe tbody tr th {\n",
       "        vertical-align: top;\n",
       "    }\n",
       "\n",
       "    .dataframe thead th {\n",
       "        text-align: right;\n",
       "    }\n",
       "</style>\n",
       "<table border=\"1\" class=\"dataframe\">\n",
       "  <thead>\n",
       "    <tr style=\"text-align: right;\">\n",
       "      <th></th>\n",
       "      <th>name of movie</th>\n",
       "      <th>year_of_relase</th>\n",
       "      <th>watchtime</th>\n",
       "      <th>movie_rating</th>\n",
       "      <th>metascore</th>\n",
       "      <th>votes</th>\n",
       "      <th>gross_collection</th>\n",
       "    </tr>\n",
       "  </thead>\n",
       "  <tbody>\n",
       "    <tr>\n",
       "      <th>56</th>\n",
       "      <td>Lichter der Großstadt - Eine Komödien-Romance ...</td>\n",
       "      <td>1931</td>\n",
       "      <td>87</td>\n",
       "      <td>8.5</td>\n",
       "      <td>99</td>\n",
       "      <td>176,995</td>\n",
       "      <td>$0.02M</td>\n",
       "    </tr>\n",
       "    <tr>\n",
       "      <th>55</th>\n",
       "      <td>Moderne Zeiten</td>\n",
       "      <td>1936</td>\n",
       "      <td>87</td>\n",
       "      <td>8.5</td>\n",
       "      <td>96</td>\n",
       "      <td>230,067</td>\n",
       "      <td>$0.16M</td>\n",
       "    </tr>\n",
       "    <tr>\n",
       "      <th>86</th>\n",
       "      <td>Der große Diktator</td>\n",
       "      <td>1940</td>\n",
       "      <td>125</td>\n",
       "      <td>8.4</td>\n",
       "      <td>none</td>\n",
       "      <td>214,308</td>\n",
       "      <td>$0.29M</td>\n",
       "    </tr>\n",
       "    <tr>\n",
       "      <th>54</th>\n",
       "      <td>Casablanca</td>\n",
       "      <td>1942</td>\n",
       "      <td>102</td>\n",
       "      <td>8.5</td>\n",
       "      <td>100</td>\n",
       "      <td>545,614</td>\n",
       "      <td>$1.02M</td>\n",
       "    </tr>\n",
       "    <tr>\n",
       "      <th>35</th>\n",
       "      <td>Ist das Leben nicht schön?</td>\n",
       "      <td>1946</td>\n",
       "      <td>130</td>\n",
       "      <td>8.6</td>\n",
       "      <td>89</td>\n",
       "      <td>424,383</td>\n",
       "      <td>none</td>\n",
       "    </tr>\n",
       "    <tr>\n",
       "      <th>85</th>\n",
       "      <td>Boulevard der Dämmerung</td>\n",
       "      <td>1950</td>\n",
       "      <td>110</td>\n",
       "      <td>8.4</td>\n",
       "      <td>none</td>\n",
       "      <td>212,310</td>\n",
       "      <td>none</td>\n",
       "    </tr>\n",
       "    <tr>\n",
       "      <th>34</th>\n",
       "      <td>Die sieben Samurai</td>\n",
       "      <td>1954</td>\n",
       "      <td>207</td>\n",
       "      <td>8.6</td>\n",
       "      <td>98</td>\n",
       "      <td>330,691</td>\n",
       "      <td>$0.27M</td>\n",
       "    </tr>\n",
       "    <tr>\n",
       "      <th>53</th>\n",
       "      <td>Das Fenster zum Hof</td>\n",
       "      <td>1954</td>\n",
       "      <td>112</td>\n",
       "      <td>8.5</td>\n",
       "      <td>100</td>\n",
       "      <td>468,284</td>\n",
       "      <td>$36.76M</td>\n",
       "    </tr>\n",
       "    <tr>\n",
       "      <th>52</th>\n",
       "      <td>Apus Weg ins Leben - 1.: Auf der Straße</td>\n",
       "      <td>1955</td>\n",
       "      <td>125</td>\n",
       "      <td>8.5</td>\n",
       "      <td>none</td>\n",
       "      <td>29,047</td>\n",
       "      <td>$0.54M</td>\n",
       "    </tr>\n",
       "    <tr>\n",
       "      <th>84</th>\n",
       "      <td>Wege zum Ruhm</td>\n",
       "      <td>1957</td>\n",
       "      <td>88</td>\n",
       "      <td>8.4</td>\n",
       "      <td>90</td>\n",
       "      <td>188,203</td>\n",
       "      <td>none</td>\n",
       "    </tr>\n",
       "    <tr>\n",
       "      <th>83</th>\n",
       "      <td>Zeugin der Anklage</td>\n",
       "      <td>1957</td>\n",
       "      <td>116</td>\n",
       "      <td>8.4</td>\n",
       "      <td>none</td>\n",
       "      <td>117,412</td>\n",
       "      <td>$8.18M</td>\n",
       "    </tr>\n",
       "    <tr>\n",
       "      <th>6</th>\n",
       "      <td>Die zwölf Geschworenen</td>\n",
       "      <td>1957</td>\n",
       "      <td>96</td>\n",
       "      <td>9.0</td>\n",
       "      <td>96</td>\n",
       "      <td>734,699</td>\n",
       "      <td>$4.36M</td>\n",
       "    </tr>\n",
       "    <tr>\n",
       "      <th>51</th>\n",
       "      <td>Psycho</td>\n",
       "      <td>1960</td>\n",
       "      <td>109</td>\n",
       "      <td>8.5</td>\n",
       "      <td>97</td>\n",
       "      <td>635,357</td>\n",
       "      <td>$32.00M</td>\n",
       "    </tr>\n",
       "    <tr>\n",
       "      <th>33</th>\n",
       "      <td>Harakiri</td>\n",
       "      <td>1962</td>\n",
       "      <td>133</td>\n",
       "      <td>8.6</td>\n",
       "      <td>85</td>\n",
       "      <td>49,967</td>\n",
       "      <td>none</td>\n",
       "    </tr>\n",
       "    <tr>\n",
       "      <th>81</th>\n",
       "      <td>Zwischen Himmel und Hölle</td>\n",
       "      <td>1963</td>\n",
       "      <td>143</td>\n",
       "      <td>8.4</td>\n",
       "      <td>none</td>\n",
       "      <td>40,207</td>\n",
       "      <td>none</td>\n",
       "    </tr>\n",
       "  </tbody>\n",
       "</table>\n",
       "</div>"
      ],
      "text/plain": [
       "                                        name of movie year_of_relase  \\\n",
       "56  Lichter der Großstadt - Eine Komödien-Romance ...           1931   \n",
       "55                                     Moderne Zeiten           1936   \n",
       "86                                 Der große Diktator           1940   \n",
       "54                                         Casablanca           1942   \n",
       "35                         Ist das Leben nicht schön?           1946   \n",
       "85                            Boulevard der Dämmerung           1950   \n",
       "34                                 Die sieben Samurai           1954   \n",
       "53                                Das Fenster zum Hof           1954   \n",
       "52            Apus Weg ins Leben - 1.: Auf der Straße           1955   \n",
       "84                                      Wege zum Ruhm           1957   \n",
       "83                                 Zeugin der Anklage           1957   \n",
       "6                              Die zwölf Geschworenen           1957   \n",
       "51                                             Psycho           1960   \n",
       "33                                           Harakiri           1962   \n",
       "81                          Zwischen Himmel und Hölle           1963   \n",
       "\n",
       "   watchtime movie_rating    metascore    votes gross_collection  \n",
       "56       87           8.5   99          176,995           $0.02M  \n",
       "55       87           8.5   96          230,067           $0.16M  \n",
       "86      125           8.4         none  214,308           $0.29M  \n",
       "54      102           8.5  100          545,614           $1.02M  \n",
       "35      130           8.6   89          424,383             none  \n",
       "85      110           8.4         none  212,310             none  \n",
       "34      207           8.6   98          330,691           $0.27M  \n",
       "53      112           8.5  100          468,284          $36.76M  \n",
       "52      125           8.5         none   29,047           $0.54M  \n",
       "84       88           8.4   90          188,203             none  \n",
       "83      116           8.4         none  117,412           $8.18M  \n",
       "6        96           9.0   96          734,699           $4.36M  \n",
       "51      109           8.5   97          635,357          $32.00M  \n",
       "33      133           8.6   85           49,967             none  \n",
       "81      143           8.4         none   40,207             none  "
      ]
     },
     "execution_count": 69,
     "metadata": {},
     "output_type": "execute_result"
    }
   ],
   "source": [
    "df=movie_DF\n",
    "df.sort_values(by='year_of_relase',inplace=True)\n",
    "# Sample visualisation for 15 movies. \n",
    "df1=df.head(15)\n",
    "df1"
   ]
  },
  {
   "cell_type": "code",
   "execution_count": 70,
   "metadata": {},
   "outputs": [],
   "source": [
    "import matplotlib.pyplot as plt\n",
    "import seaborn as sns\n",
    "%matplotlib inline\n"
   ]
  },
  {
   "cell_type": "code",
   "execution_count": 71,
   "metadata": {},
   "outputs": [
    {
     "data": {
      "text/plain": [
       "Text(0.5, 1.0, 'time of movie watching in years')"
      ]
     },
     "execution_count": 71,
     "metadata": {},
     "output_type": "execute_result"
    },
    {
     "data": {
      "image/png": "[encoded data removed]",
      "text/plain": [
       "<Figure size 432x288 with 1 Axes>"
      ]
     },
     "metadata": {
      "needs_background": "light"
     },
     "output_type": "display_data"
    }
   ],
   "source": [
    "plt.plot(df1['year_of_relase'],df1['watchtime'])\n",
    "plt.xlabel('year_of_relase')\n",
    "plt.ylabel('watchtime')\n",
    "plt.title('time of movie watching in years')"
   ]
  },
  {
   "cell_type": "code",
   "execution_count": 72,
   "metadata": {},
   "outputs": [
    {
     "name": "stderr",
     "output_type": "stream",
     "text": [
      "C:\\Users\\VENATI~1\\AppData\\Local\\Temp/ipykernel_18968/2179259687.py:1: UserWarning: linestyle is redundantly defined by the 'linestyle' keyword argument and the fmt string \"r-\" (-> linestyle='-'). The keyword argument will take precedence.\n",
      "  plt.plot(df1['year_of_relase'],df1['movie_rating'],'r-',linewidth=3,marker='o',linestyle='dashed',markerfacecolor='Black')\n"
     ]
    },
    {
     "data": {
      "text/plain": [
       "Text(0.5, 1.0, 'Movies Rating In Different Years')"
      ]
     },
     "execution_count": 72,
     "metadata": {},
     "output_type": "execute_result"
    },
    {
     "data": {
      "image/png": "[encoded data removed]",
      "text/plain": [
       "<Figure size 432x288 with 1 Axes>"
      ]
     },
     "metadata": {
      "needs_background": "light"
     },
     "output_type": "display_data"
    }
   ],
   "source": [
    "plt.plot(df1['year_of_relase'],df1['movie_rating'],'r-',linewidth=3,marker='o',linestyle='dashed',markerfacecolor='Black')\n",
    "plt.xlabel('Year_of_relase')\n",
    "plt.ylabel('Movie_rating')\n",
    "plt.title('Movies Rating In Different Years')"
   ]
  },
  {
   "cell_type": "code",
   "execution_count": 77,
   "metadata": {},
   "outputs": [
    {
     "data": {
      "text/plain": [
       "<matplotlib.legend.Legend at 0x28eca57df10>"
      ]
     },
     "execution_count": 77,
     "metadata": {},
     "output_type": "execute_result"
    },
    {
     "data": {
      "image/png": "[encoded data removed]",
      "text/plain": [
       "<Figure size 432x288 with 1 Axes>"
      ]
     },
     "metadata": {
      "needs_background": "light"
     },
     "output_type": "display_data"
    }
   ],
   "source": [
    "plt.plot(df1['year_of_relase'],df1['movie_rating'],label='movie_rating',color='blue',marker='o')\n",
    "plt.plot(df1['year_of_relase'],df1['votes'],label='votes',color='orange',marker='o')\n",
    "plt.plot(df1['year_of_relase'],df1['gross_collection'],label='gross_collection',color='green',marker='o')\n",
    "plt.legend(loc='upper left',fontsize=7)"
   ]
  },
  {
   "cell_type": "code",
   "execution_count": 78,
   "metadata": {},
   "outputs": [
    {
     "data": {
      "text/plain": [
       "<matplotlib.legend.Legend at 0x28eca6e0fd0>"
      ]
     },
     "execution_count": 78,
     "metadata": {},
     "output_type": "execute_result"
    },
    {
     "data": {
      "image/png": "[encoded data removed]",
      "text/plain": [
       "<Figure size 432x288 with 1 Axes>"
      ]
     },
     "metadata": {
      "needs_background": "light"
     },
     "output_type": "display_data"
    }
   ],
   "source": [
    "plt.plot(df['year_of_relase'],df['movie_rating'],label='movie_rating',color='blue',marker='o')\n",
    "plt.plot(df['year_of_relase'],df['votes'],label='votes',color='orange',marker='o')\n",
    "plt.plot(df['year_of_relase'],df['gross_collection'],label='gross_collection',color='green',marker='o')\n",
    "plt.legend(loc='upper left',fontsize=7)"
   ]
  }
 ],
 "metadata": {
  "interpreter": {
   "hash": "8e98eea00a698c66ff9007bd5a8bf6209cdaa78d416205c57d24ef9296d8223a"
  },
  "kernelspec": {
   "display_name": "Python 3.8.12 64-bit ('strive': conda)",
   "name": "python3"
  },
  "language_info": {
   "codemirror_mode": {
    "name": "ipython",
    "version": 3
   },
   "file_extension": ".py",
   "mimetype": "text/x-python",
   "name": "python",
   "nbconvert_exporter": "python",
   "pygments_lexer": "ipython3",
   "version": "3.8.12"
  },
  "orig_nbformat": 4
 },
 "nbformat": 4,
 "nbformat_minor": 2
}
